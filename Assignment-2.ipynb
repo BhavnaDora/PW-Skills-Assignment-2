{
 "cells": [
  {
   "cell_type": "code",
   "execution_count": 1,
   "id": "c61ca43e-b20b-442b-a2bf-688c4037d476",
   "metadata": {},
   "outputs": [
    {
     "name": "stdin",
     "output_type": "stream",
     "text": [
      "Enter the percentage: 92.5\n"
     ]
    },
    {
     "name": "stdout",
     "output_type": "stream",
     "text": [
      "Your grade is A\n"
     ]
    }
   ],
   "source": [
    "percentage= float(input(\"Enter the percentage:\"))\n",
    "if percentage>90 and percentage<=100:\n",
    "    print(\"Your grade is A\")\n",
    "elif percentage<=90 and percentage>80:\n",
    "    print(\"Your grade is B\")\n",
    "elif percentage<=80 and percentage>=60:\n",
    "    print(\"Your grade is C\")\n",
    "else:\n",
    "    print(\"Your grade is D\")\n",
    "    "
   ]
  },
  {
   "cell_type": "code",
   "execution_count": 2,
   "id": "3ea54945-dd2f-4d76-96d2-6c815b3260b2",
   "metadata": {},
   "outputs": [
    {
     "name": "stdin",
     "output_type": "stream",
     "text": [
      "Enter cost price of bike: 200000\n"
     ]
    },
    {
     "name": "stdout",
     "output_type": "stream",
     "text": [
      "Road tax to be paid=30000.0\n"
     ]
    }
   ],
   "source": [
    "cost_price= int(input(\"Enter cost price of bike:\"))\n",
    "if cost_price>100000:\n",
    "    print(\"Road tax to be paid={}\".format(0.15*cost_price))\n",
    "elif cost_price<=100000 and cost_price>50000:\n",
    "    print(\"Road tax to be paid={}\".format(0.10*cost_price))\n",
    "else:\n",
    "    print(\"Road tax to be paid={}\".format(0.05*cost_price))\n",
    "    \n"
   ]
  },
  {
   "cell_type": "code",
   "execution_count": 4,
   "id": "1658a133-fab1-41a0-91c6-809eb1d51fd3",
   "metadata": {},
   "outputs": [
    {
     "name": "stdin",
     "output_type": "stream",
     "text": [
      "Enter the city name: agra\n"
     ]
    },
    {
     "name": "stdout",
     "output_type": "stream",
     "text": [
      "The monument in Agra is Taj Mahal\n"
     ]
    }
   ],
   "source": [
    "city= input(\"Enter the city name:\").capitalize()\n",
    "if city==\"Delhi\":\n",
    "    print(\"The monument in {} is {}\".format(city, \"Red Fort\"))\n",
    "elif city==\"Agra\":\n",
    "    print(\"The monument in {} is {}\".format(city, \"Taj Mahal\"))\n",
    "elif city==\"Jaipur\":\n",
    "    print(\"The monument in {} is {}\".format(city, \"Jal Mahal\"))\n",
    "else:\n",
    "    print(\"We will find the monument in {} and let you know!\".format(city))\n"
   ]
  },
  {
   "cell_type": "code",
   "execution_count": 5,
   "id": "163403b9-b6ac-4074-800f-e7591daa291c",
   "metadata": {},
   "outputs": [
    {
     "name": "stdin",
     "output_type": "stream",
     "text": [
      "Enter any number: 271\n"
     ]
    },
    {
     "name": "stdout",
     "output_type": "stream",
     "text": [
      "The number can be divided 3 times before it's less than or equal to 10\n"
     ]
    }
   ],
   "source": [
    "number= int(input(\"Enter any number:\"))\n",
    "count=0\n",
    "while number>10:\n",
    "    if number/3 >10:\n",
    "        count= count+1\n",
    "    number= number/3\n",
    "\n",
    "print(\"The number can be divided {} times before it's less than or equal to 10\".format(count))\n",
    "    \n",
    "    \n",
    "    "
   ]
  },
  {
   "cell_type": "code",
   "execution_count": 6,
   "id": "ddd7fc41-5eb7-4373-bbf3-ef3ba19fbd68",
   "metadata": {},
   "outputs": [
    {
     "name": "stdout",
     "output_type": "stream",
     "text": [
      "10\n",
      "9\n",
      "8\n",
      "7\n",
      "6\n",
      "5\n",
      "4\n",
      "3\n",
      "2\n",
      "1\n"
     ]
    }
   ],
   "source": [
    "num=10\n",
    "while num>0:\n",
    "    print(num)\n",
    "    num=num-1\n",
    "   \n",
    "    "
   ]
  },
  {
   "cell_type": "code",
   "execution_count": 7,
   "id": "af84562a-7780-493b-8994-55282f1a89c3",
   "metadata": {},
   "outputs": [
    {
     "name": "stdout",
     "output_type": "stream",
     "text": [
      "*****\n",
      "****\n",
      "***\n",
      "**\n",
      "*\n"
     ]
    }
   ],
   "source": [
    "i=5\n",
    "j=0\n",
    "while i>0:\n",
    "    while j<i:\n",
    "        print(\"*\",end='')\n",
    "        j=j+1\n",
    "    j=0\n",
    "    print(\"\\r\")\n",
    "    i=i-1\n",
    "\n"
   ]
  },
  {
   "cell_type": "code",
   "execution_count": 8,
   "id": "d75d6c4d-521e-4889-a2e5-d5bea7c9c0ab",
   "metadata": {},
   "outputs": [
    {
     "name": "stdout",
     "output_type": "stream",
     "text": [
      "1\n",
      "12\n",
      "123\n",
      "1234\n",
      "12345\n"
     ]
    }
   ],
   "source": [
    "i=1\n",
    "j=1\n",
    "while i<=5:\n",
    "    while j<=i:\n",
    "        print(j,end='')\n",
    "        j=j+1\n",
    "    j=1\n",
    "    print(\"\")\n",
    "    i=i+1\n",
    "    \n",
    "        \n",
    "    "
   ]
  },
  {
   "cell_type": "code",
   "execution_count": 9,
   "id": "c56ba094-348c-4847-b36a-3c06ee18ba91",
   "metadata": {},
   "outputs": [
    {
     "name": "stdout",
     "output_type": "stream",
     "text": [
      "* * * * * \n",
      " * * * * \n",
      "  * * * \n",
      "   * * \n",
      "    * \n",
      "    * \n",
      "   * * \n",
      "  * * * \n",
      " * * * * \n",
      "* * * * * \n"
     ]
    }
   ],
   "source": [
    "i=0\n",
    "j=0\n",
    "while i<5:\n",
    "    #display spaces\n",
    "    while j<i: \n",
    "        print('',end=\" \")\n",
    "        j=j+1\n",
    "    j=0\n",
    "    k=i\n",
    "    while k<5:\n",
    "        print(\"*\",end=\" \")\n",
    "        k=k+1\n",
    "    print('')\n",
    "    i=i+1\n",
    "i=5 \n",
    "while i>0:\n",
    "    j=1\n",
    "    while j<i:\n",
    "        print('',end=\" \")\n",
    "        j=j+1\n",
    "    k=i\n",
    "    while k<=5:\n",
    "        print(\"*\",end=\" \")\n",
    "        k=k+1\n",
    "    print('')\n",
    "    i=i-1\n",
    "    \n",
    "    \n"
   ]
  },
  {
   "cell_type": "markdown",
   "id": "f6527ba3-6f45-4ae7-8cdb-1a8df70da17f",
   "metadata": {},
   "source": [
    "#### while loop is used to execute a block of statements repeatedly until a given condition is satisfied. If the condition is True the code inside the while loop is executed. This process repeats until the condition is False. After that the loop stops.\n",
    "#### For loop is usually used when the no. of iterations is known. While loop is used when the number of iterations is unknown. If we don't have a tidy data structure to iterate through, or we don't have a generator function that drives our processing, we must use while loop.\n",
    "#### Example-"
   ]
  },
  {
   "cell_type": "code",
   "execution_count": 11,
   "id": "e39a67da-6812-4af4-999d-a72a9bdcedb0",
   "metadata": {},
   "outputs": [
    {
     "name": "stdin",
     "output_type": "stream",
     "text": [
      "Enter a number: 10\n",
      "Enter a number: 4\n",
      "Enter a number: 20\n",
      "Enter a number: 0\n"
     ]
    },
    {
     "name": "stdout",
     "output_type": "stream",
     "text": [
      "total = 34\n"
     ]
    }
   ],
   "source": [
    "# program to calculate the sum of numbers until the user enters zero\n",
    "\n",
    "number = int(input(\"Enter a number:\"))\n",
    "total = 0\n",
    "\n",
    "# add numbers until number is zero\n",
    "while number != 0:\n",
    "    total = total + number\n",
    "    # take input again\n",
    "    number = int(input(\"Enter a number:\"))\n",
    "    \n",
    "print('total =', total)"
   ]
  },
  {
   "cell_type": "code",
   "execution_count": 14,
   "id": "1bf98043-ff0b-4fda-8b32-371dfdf8b757",
   "metadata": {},
   "outputs": [
    {
     "name": "stdin",
     "output_type": "stream",
     "text": [
      "Enter a number: 10\n"
     ]
    },
    {
     "name": "stdout",
     "output_type": "stream",
     "text": [
      "The numbers from 10 to 1 are:\n",
      "10 9 8 7 6 5 4 3 2 1 "
     ]
    }
   ],
   "source": [
    "num= int(input(\"Enter a number:\"))\n",
    "i=0\n",
    "print(\"The numbers from {} to 1 are:\".format(num))\n",
    "while num>0:\n",
    "    print(num,end=\" \")\n",
    "    num-=1\n",
    "       \n",
    "         "
   ]
  }
 ],
 "metadata": {
  "kernelspec": {
   "display_name": "Python 3 (ipykernel)",
   "language": "python",
   "name": "python3"
  },
  "language_info": {
   "codemirror_mode": {
    "name": "ipython",
    "version": 3
   },
   "file_extension": ".py",
   "mimetype": "text/x-python",
   "name": "python",
   "nbconvert_exporter": "python",
   "pygments_lexer": "ipython3",
   "version": "3.10.8"
  }
 },
 "nbformat": 4,
 "nbformat_minor": 5
}
